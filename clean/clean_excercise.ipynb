{
 "cells": [
  {
   "cell_type": "code",
   "execution_count": 54,
   "id": "0690e948",
   "metadata": {},
   "outputs": [
    {
     "data": {
      "text/html": [
       "<div>\n",
       "<style scoped>\n",
       "    .dataframe tbody tr th:only-of-type {\n",
       "        vertical-align: middle;\n",
       "    }\n",
       "\n",
       "    .dataframe tbody tr th {\n",
       "        vertical-align: top;\n",
       "    }\n",
       "\n",
       "    .dataframe thead th {\n",
       "        text-align: right;\n",
       "    }\n",
       "</style>\n",
       "<table border=\"1\" class=\"dataframe\">\n",
       "  <thead>\n",
       "    <tr style=\"text-align: right;\">\n",
       "      <th></th>\n",
       "      <th>nm_name</th>\n",
       "      <th>st_name</th>\n",
       "      <th>nm_city</th>\n",
       "      <th>st_address</th>\n",
       "      <th>user_name</th>\n",
       "      <th>user_id</th>\n",
       "      <th>is_local_guide</th>\n",
       "      <th>review_count</th>\n",
       "      <th>photo_count</th>\n",
       "      <th>rating_star</th>\n",
       "      <th>time_num</th>\n",
       "      <th>time_unit</th>\n",
       "      <th>months_ago</th>\n",
       "      <th>content_clean</th>\n",
       "      <th>create_date</th>\n",
       "      <th>update_date</th>\n",
       "      <th>nm_id</th>\n",
       "      <th>st_id</th>\n",
       "    </tr>\n",
       "  </thead>\n",
       "  <tbody>\n",
       "    <tr>\n",
       "      <th>0</th>\n",
       "      <td>逢甲夜市</td>\n",
       "      <td>辣訣-秘藏鍋物-台中逢甲店\\n</td>\n",
       "      <td>台中市</td>\n",
       "      <td>西屯區文華路121之31號</td>\n",
       "      <td>施小妹</td>\n",
       "      <td>104891691568643818609</td>\n",
       "      <td>False</td>\n",
       "      <td>5.0</td>\n",
       "      <td>0.0</td>\n",
       "      <td>5.0</td>\n",
       "      <td>1</td>\n",
       "      <td>週</td>\n",
       "      <td>0.716667</td>\n",
       "      <td>CP值高  東西也不錯吃  香米飯和功夫麵可以無限續</td>\n",
       "      <td>2025-05-04</td>\n",
       "      <td>2025-05-18</td>\n",
       "      <td>FC</td>\n",
       "      <td>NaN</td>\n",
       "    </tr>\n",
       "  </tbody>\n",
       "</table>\n",
       "</div>"
      ],
      "text/plain": [
       "  nm_name          st_name nm_city      st_address user_name  \\\n",
       "0    逢甲夜市  辣訣-秘藏鍋物-台中逢甲店\\n     台中市  西屯區文華路121之31號        施小妹   \n",
       "\n",
       "                 user_id  is_local_guide  review_count  photo_count  \\\n",
       "0  104891691568643818609           False           5.0          0.0   \n",
       "\n",
       "   rating_star  time_num time_unit  months_ago               content_clean  \\\n",
       "0          5.0         1         週    0.716667  CP值高  東西也不錯吃  香米飯和功夫麵可以無限續   \n",
       "\n",
       "  create_date update_date nm_id  st_id  \n",
       "0  2025-05-04  2025-05-18    FC    NaN  "
      ]
     },
     "execution_count": 54,
     "metadata": {},
     "output_type": "execute_result"
    }
   ],
   "source": [
    "import pandas as pd\n",
    "df= pd.read_csv('/workspaces/poetry-demo-test2/clean/merge_no_no_stid.csv')\n",
    "df.head(1)"
   ]
  },
  {
   "cell_type": "code",
   "execution_count": null,
   "id": "581af52a",
   "metadata": {},
   "outputs": [],
   "source": [
    "df.describe().round(2)"
   ]
  },
  {
   "cell_type": "code",
   "execution_count": null,
   "id": "14a7f566",
   "metadata": {},
   "outputs": [],
   "source": [
    "df.info()"
   ]
  },
  {
   "cell_type": "code",
   "execution_count": null,
   "id": "d2504f8e",
   "metadata": {},
   "outputs": [],
   "source": [
    "#檢查維度\n",
    "df.shape        # (rows, columns)"
   ]
  },
  {
   "cell_type": "code",
   "execution_count": null,
   "id": "324bc873",
   "metadata": {},
   "outputs": [],
   "source": [
    "#欄位清單\n",
    "df.columns      # Index of column names\n"
   ]
  },
  {
   "cell_type": "code",
   "execution_count": null,
   "id": "5041329a",
   "metadata": {},
   "outputs": [],
   "source": [
    "#資料型態\n",
    "df.dtypes       # 各欄位 dtype (object／int／float／datetime…)\n"
   ]
  },
  {
   "cell_type": "code",
   "execution_count": null,
   "id": "977deb3e",
   "metadata": {},
   "outputs": [],
   "source": [
    "#記憶體使用量\n",
    "df.memory_usage(deep=True)"
   ]
  },
  {
   "cell_type": "markdown",
   "id": "509eac4b",
   "metadata": {},
   "source": [
    "# 空值與唯一值分析"
   ]
  },
  {
   "cell_type": "code",
   "execution_count": null,
   "id": "acd4ae91",
   "metadata": {},
   "outputs": [],
   "source": [
    "#每欄缺失值計數\n",
    "df.isnull().sum()"
   ]
  },
  {
   "cell_type": "code",
   "execution_count": null,
   "id": "0eb42c02",
   "metadata": {},
   "outputs": [],
   "source": [
    "#每欄不同值（unique）數量\n",
    "df['user_id'].nunique"
   ]
  },
  {
   "cell_type": "code",
   "execution_count": null,
   "id": "a57c03ab",
   "metadata": {},
   "outputs": [],
   "source": [
    "#查看缺失值比例\n",
    "df.isnull().mean()  # 轉成比例\n"
   ]
  },
  {
   "cell_type": "markdown",
   "id": "74ec578e",
   "metadata": {},
   "source": [
    "# 取樣與重點觀察\n"
   ]
  },
  {
   "cell_type": "code",
   "execution_count": null,
   "id": "d8354a3c",
   "metadata": {},
   "outputs": [],
   "source": [
    "#隨機抽樣\n",
    "df.sample(5)"
   ]
  },
  {
   "cell_type": "code",
   "execution_count": null,
   "id": "e6f6e5ed",
   "metadata": {},
   "outputs": [],
   "source": [
    "#頂端與底端\n",
    "df.head(3)\n",
    "df.tail(3)"
   ]
  },
  {
   "cell_type": "code",
   "execution_count": 55,
   "id": "db89e912",
   "metadata": {},
   "outputs": [
    {
     "data": {
      "text/plain": [
       "st_name\n",
       "🈺福客素食蛋餅早餐——原素食蛋餅（蛋奶素） 早午餐 —漢堡，吐司，炒麵，抓餅，蘿蔔糕，炸物，飲料均有販售，歡迎訂購    127\n",
       "辣訣-秘藏鍋物-台中逢甲店\\n                                              120\n",
       "古早味糖葫蘆                                                         3\n",
       "Name: count, dtype: int64"
      ]
     },
     "execution_count": 55,
     "metadata": {},
     "output_type": "execute_result"
    }
   ],
   "source": [
    "#Value Counts（類別分佈）\n",
    "df['st_name'].value_counts().head(20)   # 單欄位\n",
    "#df['matched_name'].value_counts().head(10)\n",
    "#計算 matched_name（店家名稱）欄位中，每家店出現的評論數量，並取出前 10 名。"
   ]
  },
  {
   "cell_type": "code",
   "execution_count": null,
   "id": "44c0c526",
   "metadata": {},
   "outputs": [],
   "source": [
    "df = df.drop(df[df['st_name'] == '大東東夜市'].index)"
   ]
  },
  {
   "cell_type": "code",
   "execution_count": 58,
   "id": "2c05f0ce",
   "metadata": {},
   "outputs": [],
   "source": [
    "mark = (df['st_name'] == '古早味糖葫蘆')\n",
    "df.loc[mark, 'st_id'] = 2036"
   ]
  },
  {
   "cell_type": "code",
   "execution_count": null,
   "id": "c38150ac",
   "metadata": {},
   "outputs": [],
   "source": [
    "mark = df['st_name'] == '刁四麻辣燙（士林夜市店）'\n",
    "df.loc[mark, 'st_name'] = '刁四麻辣燙'\n",
    "df"
   ]
  },
  {
   "cell_type": "markdown",
   "id": "b0a032f3",
   "metadata": {},
   "source": [
    "# 文字欄位探索 \n"
   ]
  },
  {
   "cell_type": "code",
   "execution_count": null,
   "id": "8ee5e021",
   "metadata": {},
   "outputs": [],
   "source": [
    "#最長\\最短字串\n",
    "df['content_clean'].str.len().describe()\n"
   ]
  },
  {
   "cell_type": "code",
   "execution_count": null,
   "id": "721da5a9",
   "metadata": {},
   "outputs": [],
   "source": [
    "#關鍵詞出現次數\n",
    "df['content_clean'].str.contains('難吃').sum()\n"
   ]
  },
  {
   "cell_type": "code",
   "execution_count": null,
   "id": "2b9ad6a1",
   "metadata": {},
   "outputs": [],
   "source": [
    "#前幾個常用詞（需先做斷詞／split）\n",
    "from collections import Counter\n",
    "cnt = Counter(\" \".join(df['content_clean'].dropna()).split())\n",
    "cnt.most_common(10)"
   ]
  },
  {
   "cell_type": "markdown",
   "id": "eff00d76",
   "metadata": {},
   "source": [
    "# 重複資料"
   ]
  },
  {
   "cell_type": "code",
   "execution_count": null,
   "id": "7a11d596",
   "metadata": {},
   "outputs": [],
   "source": [
    "# 1. 計算每位作者發文次數\n",
    "author_counts = df['user_id'].value_counts()\n",
    "\n",
    "# 2. 篩出發文次數多於 1 的作者\n",
    "repeat_authors = author_counts[author_counts > 1]\n",
    "print(repeat_authors.head(10))\n",
    "# 這裡 .head(10) 只是示意，會顯示發文次數最多的前 10 位重複作者\n",
    "\n",
    "# 3. 要取得整個名單\n",
    "all_repeat = repeat_authors.index.tolist()\n",
    "print(f\"一共 {len(all_repeat)} 位作者發表超過一次評論\")\n",
    "\n",
    "# 4. 把這些作者在原 df 中的所有留言都抓出來\n",
    "df_repeat = df[df['user_id'].isin(all_repeat)]\n",
    "df_repeat.head()\n"
   ]
  },
  {
   "cell_type": "code",
   "execution_count": null,
   "id": "bc1733f6",
   "metadata": {},
   "outputs": [],
   "source": [
    "# 直接標記 評論內容 欄的重複列（keep=False 代表所有重複都標 True）\n",
    "df_dup2 = df[df.duplicated(subset=['st_address', 'st_name_x'], keep=False)]\n",
    "\n",
    "# 同樣依 content → author 排序並檢視\n",
    "df_dup = df_dup2.sort_values(['st_address','st_id','st_name_x','st_name','st_score', 'st_total_com'])[['st_address','st_id','st_name_x','st_name','st_score', 'st_total_com']]\n"
   ]
  },
  {
   "cell_type": "code",
   "execution_count": null,
   "id": "4a1c29ad",
   "metadata": {},
   "outputs": [],
   "source": [
    "df_dup"
   ]
  },
  {
   "cell_type": "code",
   "execution_count": null,
   "id": "b78bd8b4",
   "metadata": {},
   "outputs": [],
   "source": [
    "df_dup[df_dup[\"st_name\"] != df_dup[\"st_name_x\"]]"
   ]
  },
  {
   "cell_type": "code",
   "execution_count": null,
   "id": "b4ada1f9",
   "metadata": {},
   "outputs": [],
   "source": [
    "df = df[df[\"st_name\"] != df[\"st_name_x\"]]"
   ]
  },
  {
   "cell_type": "code",
   "execution_count": null,
   "id": "796713f9",
   "metadata": {},
   "outputs": [],
   "source": [
    "dup_cols = ['user_id', 'nm_id', 'st_id', 'rating_star', 'content_clean']\n",
    "\n",
    "# groupby 然後 filter 出出現次數 > 2 的群組\n",
    "df_repeated = df_dup2.groupby(dup_cols).filter(lambda x: len(x) > 2)\n",
    "df_repeat = df_repeated.sort_values(['user_id','nm_id','st_id', 'rating_star', 'content_clean'])\n",
    "# dup_counts = df_dup2.groupby(dup_cols).size().reset_index(name='count')\n",
    "# dup_over_2 = dup_counts[dup_counts['count'] > 2]"
   ]
  },
  {
   "cell_type": "code",
   "execution_count": null,
   "id": "d5d44f14",
   "metadata": {},
   "outputs": [],
   "source": [
    "df_repeat"
   ]
  },
  {
   "cell_type": "code",
   "execution_count": null,
   "id": "acc40b27",
   "metadata": {},
   "outputs": [],
   "source": [
    "df = df.drop(columns=['st_id_x', 'st_id_y'])"
   ]
  },
  {
   "cell_type": "code",
   "execution_count": null,
   "id": "55e0fcec",
   "metadata": {},
   "outputs": [],
   "source": [
    "df['nm_name'] = df['nm_name_y']\n",
    "df['nm_city'] = df['nm_city_y']\n",
    "df['st_address'] = df['st_address_y']\n",
    "df = df.drop(columns=['nm_name_y', 'nm_city_y', 'st_address_y'])"
   ]
  },
  {
   "cell_type": "code",
   "execution_count": null,
   "id": "422ad5e4",
   "metadata": {},
   "outputs": [],
   "source": [
    "df"
   ]
  },
  {
   "cell_type": "code",
   "execution_count": null,
   "id": "dc9f097c",
   "metadata": {},
   "outputs": [],
   "source": [
    "df = df.drop_duplicates(subset=['comment_id'], keep='last')"
   ]
  },
  {
   "cell_type": "code",
   "execution_count": null,
   "id": "96a8999d",
   "metadata": {},
   "outputs": [],
   "source": [
    "df_no_stid = df[df['st_id'].isna() |(df['st_id'] == '')]"
   ]
  },
  {
   "cell_type": "code",
   "execution_count": null,
   "id": "6a91617e",
   "metadata": {},
   "outputs": [],
   "source": [
    "df = df.drop(df[df['st_id'].isna() |(df['st_id'] == '')].index)"
   ]
  },
  {
   "cell_type": "code",
   "execution_count": null,
   "id": "fefec478",
   "metadata": {},
   "outputs": [],
   "source": [
    "df"
   ]
  },
  {
   "cell_type": "code",
   "execution_count": null,
   "id": "b005eb06",
   "metadata": {},
   "outputs": [],
   "source": [
    "df = df.drop(columns=['st_name_y'])"
   ]
  },
  {
   "cell_type": "code",
   "execution_count": null,
   "id": "47591fe8",
   "metadata": {},
   "outputs": [],
   "source": [
    "df"
   ]
  },
  {
   "cell_type": "code",
   "execution_count": null,
   "id": "c3b1c223",
   "metadata": {},
   "outputs": [],
   "source": [
    "mark = df['st_address_y'].isna() |(df['st_address_y'] == '')\n",
    "df.loc[mark, 'st_address_y'] = df.loc[mark, 'st_address_x']"
   ]
  },
  {
   "cell_type": "code",
   "execution_count": null,
   "id": "e016517a",
   "metadata": {},
   "outputs": [],
   "source": [
    "df['st_address_x'] = df['st_address_y'].where(df['st_address_y'].notna(), df['st_address_x'])"
   ]
  },
  {
   "cell_type": "code",
   "execution_count": null,
   "id": "52c3691c",
   "metadata": {},
   "outputs": [],
   "source": [
    "df_repeat.to_csv(\"/workspaces/poetry-demo-test2/toDB/comment_dup_3.csv\", header=True, index=None)"
   ]
  },
  {
   "cell_type": "code",
   "execution_count": null,
   "id": "1dfba342",
   "metadata": {},
   "outputs": [],
   "source": [
    "df_dup.to_csv(\"/workspaces/poetry-demo-test2/store/test2.csv\", header=True, index=None)"
   ]
  },
  {
   "cell_type": "markdown",
   "id": "af00f865",
   "metadata": {},
   "source": [
    "# 個人驗證"
   ]
  },
  {
   "cell_type": "code",
   "execution_count": null,
   "id": "a2768f36",
   "metadata": {},
   "outputs": [],
   "source": [
    "author = '102322134975713908116'\n",
    "df_author = df[df['user_id'] == author]\n",
    "df_author"
   ]
  },
  {
   "cell_type": "code",
   "execution_count": null,
   "id": "486d336f",
   "metadata": {},
   "outputs": [],
   "source": [
    "#留言時間\n",
    "df_author[f'{time_num}+{time_unit}'].value_counts()"
   ]
  },
  {
   "cell_type": "code",
   "execution_count": null,
   "id": "5edaf8fe",
   "metadata": {},
   "outputs": [],
   "source": [
    "#對「評論內容」欄，標記出哪些列的值和前面某一列完全一樣\n",
    "#預設 keep='first'，所以第一筆出現的那個不算重複，從第二筆開始才算\n",
    "#把這些標記為重複（True）的列數加總起來，得到重複評論的筆數。\n",
    "df_author['content_clean'].duplicated().sum()"
   ]
  },
  {
   "cell_type": "code",
   "execution_count": null,
   "id": "057fa5df",
   "metadata": {},
   "outputs": [],
   "source": [
    "df_nodup = df[~(df['fake_comment'] == '無法判斷')]"
   ]
  },
  {
   "cell_type": "code",
   "execution_count": 59,
   "id": "fbb88775",
   "metadata": {},
   "outputs": [],
   "source": [
    "df.to_csv(\"/workspaces/poetry-demo-test2/clean/merge_no_no_stid.csv\", header=True, index=None)"
   ]
  },
  {
   "cell_type": "code",
   "execution_count": null,
   "id": "41884a98",
   "metadata": {},
   "outputs": [],
   "source": []
  }
 ],
 "metadata": {
  "kernelspec": {
   "display_name": "poetry-demo-test2-wqEWZdk4-py3.12",
   "language": "python",
   "name": "python3"
  },
  "language_info": {
   "codemirror_mode": {
    "name": "ipython",
    "version": 3
   },
   "file_extension": ".py",
   "mimetype": "text/x-python",
   "name": "python",
   "nbconvert_exporter": "python",
   "pygments_lexer": "ipython3",
   "version": "3.12.10"
  }
 },
 "nbformat": 4,
 "nbformat_minor": 5
}
