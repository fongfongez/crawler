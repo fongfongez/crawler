{
 "cells": [
  {
   "cell_type": "code",
   "execution_count": 1,
   "id": "5a0d1cf7",
   "metadata": {},
   "outputs": [],
   "source": [
    "import pandas as pd"
   ]
  },
  {
   "cell_type": "code",
   "execution_count": 2,
   "id": "06b01402",
   "metadata": {},
   "outputs": [
    {
     "data": {
      "text/html": [
       "<div>\n",
       "<style scoped>\n",
       "    .dataframe tbody tr th:only-of-type {\n",
       "        vertical-align: middle;\n",
       "    }\n",
       "\n",
       "    .dataframe tbody tr th {\n",
       "        vertical-align: top;\n",
       "    }\n",
       "\n",
       "    .dataframe thead th {\n",
       "        text-align: right;\n",
       "    }\n",
       "</style>\n",
       "<table border=\"1\" class=\"dataframe\">\n",
       "  <thead>\n",
       "    <tr style=\"text-align: right;\">\n",
       "      <th></th>\n",
       "      <th>nm_name</th>\n",
       "      <th>st_name</th>\n",
       "      <th>nm_city</th>\n",
       "      <th>st_address</th>\n",
       "      <th>st_url</th>\n",
       "      <th>st_score</th>\n",
       "      <th>st_price</th>\n",
       "      <th>st_total_com</th>\n",
       "      <th>st_tag</th>\n",
       "      <th>nm_id</th>\n",
       "    </tr>\n",
       "  </thead>\n",
       "  <tbody>\n",
       "    <tr>\n",
       "      <th>0</th>\n",
       "      <td>寧夏夜市</td>\n",
       "      <td>方家雞肉飯</td>\n",
       "      <td>台北市</td>\n",
       "      <td>大同區寧夏路060攤位號</td>\n",
       "      <td>https://www.google.com/maps/place/%E6%96%B9%E5...</td>\n",
       "      <td>4.0</td>\n",
       "      <td>$1-200</td>\n",
       "      <td>1549.0</td>\n",
       "      <td>滷肉飯, 炒青菜, 蔥, 排骨, 雞油, 醬, 必比登, 矩陣, 堂食, 玉子燒</td>\n",
       "      <td>NX</td>\n",
       "    </tr>\n",
       "    <tr>\n",
       "      <th>1</th>\n",
       "      <td>寧夏夜市</td>\n",
       "      <td>圓環邊蚵仔煎</td>\n",
       "      <td>台北市</td>\n",
       "      <td>大同區寧夏路46號</td>\n",
       "      <td>https://www.google.com/maps/place/%E5%9C%93%E7...</td>\n",
       "      <td>4.0</td>\n",
       "      <td>$1-200</td>\n",
       "      <td>3722.0</td>\n",
       "      <td>米糕, 米其林, 元慶蠔, 太白粉, 矩陣, 佇列, 輸送帶, 蘿蔔排骨湯, 蛤蜊湯, 1965年</td>\n",
       "      <td>NX</td>\n",
       "    </tr>\n",
       "    <tr>\n",
       "      <th>2</th>\n",
       "      <td>寧夏夜市</td>\n",
       "      <td>李掌伯（原寧夏夜市里長伯麻辣臭豆腐鴨血蚵仔麵線）</td>\n",
       "      <td>台北市</td>\n",
       "      <td>大同區寧夏路22之9號</td>\n",
       "      <td>https://www.google.com/maps/place/%E6%9D%8E%E6...</td>\n",
       "      <td>3.7</td>\n",
       "      <td>$1-200</td>\n",
       "      <td>3057.0</td>\n",
       "      <td>麻辣鴨血, 抄手, 腸旺, 大腸麵線, 炸豆腐, 破布子, 王子麵, 金莎, 炸豆腐, 辣湯</td>\n",
       "      <td>NX</td>\n",
       "    </tr>\n",
       "    <tr>\n",
       "      <th>3</th>\n",
       "      <td>寧夏夜市</td>\n",
       "      <td>豬肝榮仔</td>\n",
       "      <td>台北市</td>\n",
       "      <td>大同區寧夏路010攤位</td>\n",
       "      <td>https://www.google.com/maps/place/%E8%B1%AC%E8...</td>\n",
       "      <td>4.2</td>\n",
       "      <td>$1-200</td>\n",
       "      <td>1076.0</td>\n",
       "      <td>豬肝湯, 肉粽, 芋頭糕, 肉羹, 必比登, 排隊, 冬菜, 肚湯, 內臟, 形狀</td>\n",
       "      <td>NX</td>\n",
       "    </tr>\n",
       "    <tr>\n",
       "      <th>4</th>\n",
       "      <td>寧夏夜市</td>\n",
       "      <td>寧夏夜市-爆漿脆皮魷魚</td>\n",
       "      <td>台北市</td>\n",
       "      <td>大同區寧夏夜市第89攤</td>\n",
       "      <td>https://www.google.com/maps/place/%E5%AF%A7%E5...</td>\n",
       "      <td>4.1</td>\n",
       "      <td>$1-200</td>\n",
       "      <td>606.0</td>\n",
       "      <td>小黃瓜, 椒鹽, 炸魷魚, 排隊, 豆薯, 芥末, 粉, 水梨, 荸薺, 尤卡</td>\n",
       "      <td>NX</td>\n",
       "    </tr>\n",
       "    <tr>\n",
       "      <th>...</th>\n",
       "      <td>...</td>\n",
       "      <td>...</td>\n",
       "      <td>...</td>\n",
       "      <td>...</td>\n",
       "      <td>...</td>\n",
       "      <td>...</td>\n",
       "      <td>...</td>\n",
       "      <td>...</td>\n",
       "      <td>...</td>\n",
       "      <td>...</td>\n",
       "    </tr>\n",
       "    <tr>\n",
       "      <th>1960</th>\n",
       "      <td>士林夜市</td>\n",
       "      <td>REEDS PIZZERIA &amp; COFFEE 士林店</td>\n",
       "      <td>台北市</td>\n",
       "      <td>士林區文林路340-1號</td>\n",
       "      <td>https://maps.app.goo.gl/kmLVKDLjX4KpCVeP7</td>\n",
       "      <td>4.3</td>\n",
       "      <td>$200-400</td>\n",
       "      <td>20.0</td>\n",
       "      <td>麵包, 空間, 咖啡廳, 價位, 歐洲梨, 美式咖啡, 裝修, 酥脆, 烤, 環境</td>\n",
       "      <td>SL</td>\n",
       "    </tr>\n",
       "    <tr>\n",
       "      <th>1961</th>\n",
       "      <td>士林夜市</td>\n",
       "      <td>大塊牛排 - 士林店</td>\n",
       "      <td>台北市</td>\n",
       "      <td>士林區文林路341號</td>\n",
       "      <td>https://maps.app.goo.gl/SpA8oUrgRz5rBMVY8</td>\n",
       "      <td>3.8</td>\n",
       "      <td>$200-400</td>\n",
       "      <td>2512.0</td>\n",
       "      <td>夜市, 煎, 可頌, 螺旋麵, 玉米濃湯, 紅茶, 汽水, 雞腿, 碼點, 大學</td>\n",
       "      <td>SL</td>\n",
       "    </tr>\n",
       "    <tr>\n",
       "      <th>1962</th>\n",
       "      <td>士林夜市</td>\n",
       "      <td>海鮮粥</td>\n",
       "      <td>台北市</td>\n",
       "      <td>士林區福德路20號</td>\n",
       "      <td>https://maps.app.goo.gl/UoUst8mary4PKGuV9</td>\n",
       "      <td>4.0</td>\n",
       "      <td>$1-200</td>\n",
       "      <td>111.0</td>\n",
       "      <td>炒麵, 羊肉, 蛋, 價格, 油, 炒飯, 蚵, 蔥, 蝦仁, 虱目魚</td>\n",
       "      <td>SL</td>\n",
       "    </tr>\n",
       "    <tr>\n",
       "      <th>1963</th>\n",
       "      <td>士林夜市</td>\n",
       "      <td>Yiguo Ramen 라면 24H 異國無人拉麵店</td>\n",
       "      <td>台北市</td>\n",
       "      <td>士林區福德路12號14號</td>\n",
       "      <td>https://maps.app.goo.gl/PHfwCLEeW3YDqsLAA</td>\n",
       "      <td>4.9</td>\n",
       "      <td>$1-200</td>\n",
       "      <td>1556.0</td>\n",
       "      <td>選擇, 環境, 宵夜, 火鍋, 起司, 自助吧, 包, 酷, 動線, 餐盤</td>\n",
       "      <td>SL</td>\n",
       "    </tr>\n",
       "    <tr>\n",
       "      <th>1964</th>\n",
       "      <td>士林夜市</td>\n",
       "      <td>圓通素食館</td>\n",
       "      <td>台北市</td>\n",
       "      <td>士林區大東路158號</td>\n",
       "      <td>https://maps.app.goo.gl/c2L6hNtvSkCZwac37</td>\n",
       "      <td>4.3</td>\n",
       "      <td>$1-200</td>\n",
       "      <td>365.0</td>\n",
       "      <td>價格, 菜, 自助餐, 飯, 打折, 晚餐, 秤, 地板, 佛, 油</td>\n",
       "      <td>SL</td>\n",
       "    </tr>\n",
       "  </tbody>\n",
       "</table>\n",
       "<p>1965 rows × 10 columns</p>\n",
       "</div>"
      ],
      "text/plain": [
       "     nm_name                      st_name nm_city     st_address  \\\n",
       "0       寧夏夜市                        方家雞肉飯     台北市  大同區寧夏路060攤位號    \n",
       "1       寧夏夜市                       圓環邊蚵仔煎     台北市     大同區寧夏路46號    \n",
       "2       寧夏夜市     李掌伯（原寧夏夜市里長伯麻辣臭豆腐鴨血蚵仔麵線）     台北市   大同區寧夏路22之9號    \n",
       "3       寧夏夜市                         豬肝榮仔     台北市   大同區寧夏路010攤位    \n",
       "4       寧夏夜市                  寧夏夜市-爆漿脆皮魷魚     台北市   大同區寧夏夜市第89攤    \n",
       "...      ...                          ...     ...            ...   \n",
       "1960    士林夜市  REEDS PIZZERIA & COFFEE 士林店     台北市  士林區文林路340-1號    \n",
       "1961    士林夜市                   大塊牛排 - 士林店     台北市    士林區文林路341號    \n",
       "1962    士林夜市                          海鮮粥     台北市     士林區福德路20號    \n",
       "1963    士林夜市   Yiguo Ramen 라면 24H 異國無人拉麵店     台北市  士林區福德路12號14號    \n",
       "1964    士林夜市                        圓通素食館     台北市    士林區大東路158號    \n",
       "\n",
       "                                                 st_url  st_score  st_price  \\\n",
       "0     https://www.google.com/maps/place/%E6%96%B9%E5...       4.0    $1-200   \n",
       "1     https://www.google.com/maps/place/%E5%9C%93%E7...       4.0    $1-200   \n",
       "2     https://www.google.com/maps/place/%E6%9D%8E%E6...       3.7    $1-200   \n",
       "3     https://www.google.com/maps/place/%E8%B1%AC%E8...       4.2    $1-200   \n",
       "4     https://www.google.com/maps/place/%E5%AF%A7%E5...       4.1    $1-200   \n",
       "...                                                 ...       ...       ...   \n",
       "1960          https://maps.app.goo.gl/kmLVKDLjX4KpCVeP7       4.3  $200-400   \n",
       "1961          https://maps.app.goo.gl/SpA8oUrgRz5rBMVY8       3.8  $200-400   \n",
       "1962          https://maps.app.goo.gl/UoUst8mary4PKGuV9       4.0    $1-200   \n",
       "1963          https://maps.app.goo.gl/PHfwCLEeW3YDqsLAA       4.9    $1-200   \n",
       "1964          https://maps.app.goo.gl/c2L6hNtvSkCZwac37       4.3    $1-200   \n",
       "\n",
       "      st_total_com                                             st_tag nm_id  \n",
       "0           1549.0           滷肉飯, 炒青菜, 蔥, 排骨, 雞油, 醬, 必比登, 矩陣, 堂食, 玉子燒    NX  \n",
       "1           3722.0  米糕, 米其林, 元慶蠔, 太白粉, 矩陣, 佇列, 輸送帶, 蘿蔔排骨湯, 蛤蜊湯, 1965年    NX  \n",
       "2           3057.0     麻辣鴨血, 抄手, 腸旺, 大腸麵線, 炸豆腐, 破布子, 王子麵, 金莎, 炸豆腐, 辣湯    NX  \n",
       "3           1076.0          豬肝湯, 肉粽, 芋頭糕, 肉羹, 必比登, 排隊, 冬菜, 肚湯, 內臟, 形狀    NX  \n",
       "4            606.0            小黃瓜, 椒鹽, 炸魷魚, 排隊, 豆薯, 芥末, 粉, 水梨, 荸薺, 尤卡    NX  \n",
       "...            ...                                                ...   ...  \n",
       "1960          20.0          麵包, 空間, 咖啡廳, 價位, 歐洲梨, 美式咖啡, 裝修, 酥脆, 烤, 環境    SL  \n",
       "1961        2512.0           夜市, 煎, 可頌, 螺旋麵, 玉米濃湯, 紅茶, 汽水, 雞腿, 碼點, 大學    SL  \n",
       "1962         111.0                炒麵, 羊肉, 蛋, 價格, 油, 炒飯, 蚵, 蔥, 蝦仁, 虱目魚    SL  \n",
       "1963        1556.0              選擇, 環境, 宵夜, 火鍋, 起司, 自助吧, 包, 酷, 動線, 餐盤    SL  \n",
       "1964         365.0                 價格, 菜, 自助餐, 飯, 打折, 晚餐, 秤, 地板, 佛, 油    SL  \n",
       "\n",
       "[1965 rows x 10 columns]"
      ]
     },
     "execution_count": 2,
     "metadata": {},
     "output_type": "execute_result"
    }
   ],
   "source": [
    "df = pd.read_csv(\"/workspaces/poetry-demo-test2/clean/restaurants_Cleaned_merge.csv\")\n",
    "df"
   ]
  },
  {
   "cell_type": "code",
   "execution_count": 3,
   "id": "29aceae2",
   "metadata": {},
   "outputs": [],
   "source": [
    "import re\n",
    "\n",
    "def clean_store_name(raw_name):\n",
    "    parts = re.split(r'[\"]',raw_name)  # list\n",
    "    store_name = parts[0].strip()  # list取0，字串無空格\n",
    "    store_name = re.sub(r'[，,]', '', store_name) # 取代，成空格\n",
    "    return store_name"
   ]
  },
  {
   "cell_type": "code",
   "execution_count": 5,
   "id": "168ea705",
   "metadata": {},
   "outputs": [
    {
     "data": {
      "text/plain": [
       "0                             方家雞肉飯\n",
       "1                            圓環邊蚵仔煎\n",
       "2          李掌伯（原寧夏夜市里長伯麻辣臭豆腐鴨血蚵仔麵線）\n",
       "3                              豬肝榮仔\n",
       "4                       寧夏夜市-爆漿脆皮魷魚\n",
       "                   ...             \n",
       "1960    REEDS PIZZERIA & COFFEE 士林店\n",
       "1961                     大塊牛排 - 士林店\n",
       "1962                            海鮮粥\n",
       "1963     Yiguo Ramen 라면 24H 異國無人拉麵店\n",
       "1964                          圓通素食館\n",
       "Name: st_name, Length: 1965, dtype: object"
      ]
     },
     "execution_count": 5,
     "metadata": {},
     "output_type": "execute_result"
    }
   ],
   "source": [
    "df['st_name'].apply(clean_store_name)"
   ]
  },
  {
   "cell_type": "code",
   "execution_count": 6,
   "id": "c0882714",
   "metadata": {},
   "outputs": [
    {
     "data": {
      "text/html": [
       "<div>\n",
       "<style scoped>\n",
       "    .dataframe tbody tr th:only-of-type {\n",
       "        vertical-align: middle;\n",
       "    }\n",
       "\n",
       "    .dataframe tbody tr th {\n",
       "        vertical-align: top;\n",
       "    }\n",
       "\n",
       "    .dataframe thead th {\n",
       "        text-align: right;\n",
       "    }\n",
       "</style>\n",
       "<table border=\"1\" class=\"dataframe\">\n",
       "  <thead>\n",
       "    <tr style=\"text-align: right;\">\n",
       "      <th></th>\n",
       "      <th>nm_name</th>\n",
       "      <th>st_name</th>\n",
       "      <th>nm_city</th>\n",
       "      <th>st_address</th>\n",
       "      <th>st_url</th>\n",
       "      <th>st_score</th>\n",
       "      <th>st_price</th>\n",
       "      <th>st_total_com</th>\n",
       "      <th>st_tag</th>\n",
       "      <th>nm_id</th>\n",
       "    </tr>\n",
       "  </thead>\n",
       "  <tbody>\n",
       "    <tr>\n",
       "      <th>0</th>\n",
       "      <td>寧夏夜市</td>\n",
       "      <td>方家雞肉飯</td>\n",
       "      <td>台北市</td>\n",
       "      <td>大同區寧夏路060攤位號</td>\n",
       "      <td>https://www.google.com/maps/place/%E6%96%B9%E5...</td>\n",
       "      <td>4.0</td>\n",
       "      <td>$1-200</td>\n",
       "      <td>1549.0</td>\n",
       "      <td>滷肉飯, 炒青菜, 蔥, 排骨, 雞油, 醬, 必比登, 矩陣, 堂食, 玉子燒</td>\n",
       "      <td>NX</td>\n",
       "    </tr>\n",
       "    <tr>\n",
       "      <th>1</th>\n",
       "      <td>寧夏夜市</td>\n",
       "      <td>圓環邊蚵仔煎</td>\n",
       "      <td>台北市</td>\n",
       "      <td>大同區寧夏路46號</td>\n",
       "      <td>https://www.google.com/maps/place/%E5%9C%93%E7...</td>\n",
       "      <td>4.0</td>\n",
       "      <td>$1-200</td>\n",
       "      <td>3722.0</td>\n",
       "      <td>米糕, 米其林, 元慶蠔, 太白粉, 矩陣, 佇列, 輸送帶, 蘿蔔排骨湯, 蛤蜊湯, 1965年</td>\n",
       "      <td>NX</td>\n",
       "    </tr>\n",
       "    <tr>\n",
       "      <th>2</th>\n",
       "      <td>寧夏夜市</td>\n",
       "      <td>李掌伯（原寧夏夜市里長伯麻辣臭豆腐鴨血蚵仔麵線）</td>\n",
       "      <td>台北市</td>\n",
       "      <td>大同區寧夏路22之9號</td>\n",
       "      <td>https://www.google.com/maps/place/%E6%9D%8E%E6...</td>\n",
       "      <td>3.7</td>\n",
       "      <td>$1-200</td>\n",
       "      <td>3057.0</td>\n",
       "      <td>麻辣鴨血, 抄手, 腸旺, 大腸麵線, 炸豆腐, 破布子, 王子麵, 金莎, 炸豆腐, 辣湯</td>\n",
       "      <td>NX</td>\n",
       "    </tr>\n",
       "    <tr>\n",
       "      <th>3</th>\n",
       "      <td>寧夏夜市</td>\n",
       "      <td>豬肝榮仔</td>\n",
       "      <td>台北市</td>\n",
       "      <td>大同區寧夏路010攤位</td>\n",
       "      <td>https://www.google.com/maps/place/%E8%B1%AC%E8...</td>\n",
       "      <td>4.2</td>\n",
       "      <td>$1-200</td>\n",
       "      <td>1076.0</td>\n",
       "      <td>豬肝湯, 肉粽, 芋頭糕, 肉羹, 必比登, 排隊, 冬菜, 肚湯, 內臟, 形狀</td>\n",
       "      <td>NX</td>\n",
       "    </tr>\n",
       "    <tr>\n",
       "      <th>4</th>\n",
       "      <td>寧夏夜市</td>\n",
       "      <td>寧夏夜市-爆漿脆皮魷魚</td>\n",
       "      <td>台北市</td>\n",
       "      <td>大同區寧夏夜市第89攤</td>\n",
       "      <td>https://www.google.com/maps/place/%E5%AF%A7%E5...</td>\n",
       "      <td>4.1</td>\n",
       "      <td>$1-200</td>\n",
       "      <td>606.0</td>\n",
       "      <td>小黃瓜, 椒鹽, 炸魷魚, 排隊, 豆薯, 芥末, 粉, 水梨, 荸薺, 尤卡</td>\n",
       "      <td>NX</td>\n",
       "    </tr>\n",
       "    <tr>\n",
       "      <th>...</th>\n",
       "      <td>...</td>\n",
       "      <td>...</td>\n",
       "      <td>...</td>\n",
       "      <td>...</td>\n",
       "      <td>...</td>\n",
       "      <td>...</td>\n",
       "      <td>...</td>\n",
       "      <td>...</td>\n",
       "      <td>...</td>\n",
       "      <td>...</td>\n",
       "    </tr>\n",
       "    <tr>\n",
       "      <th>1960</th>\n",
       "      <td>士林夜市</td>\n",
       "      <td>REEDS PIZZERIA &amp; COFFEE 士林店</td>\n",
       "      <td>台北市</td>\n",
       "      <td>士林區文林路340-1號</td>\n",
       "      <td>https://maps.app.goo.gl/kmLVKDLjX4KpCVeP7</td>\n",
       "      <td>4.3</td>\n",
       "      <td>$200-400</td>\n",
       "      <td>20.0</td>\n",
       "      <td>麵包, 空間, 咖啡廳, 價位, 歐洲梨, 美式咖啡, 裝修, 酥脆, 烤, 環境</td>\n",
       "      <td>SL</td>\n",
       "    </tr>\n",
       "    <tr>\n",
       "      <th>1961</th>\n",
       "      <td>士林夜市</td>\n",
       "      <td>大塊牛排 - 士林店</td>\n",
       "      <td>台北市</td>\n",
       "      <td>士林區文林路341號</td>\n",
       "      <td>https://maps.app.goo.gl/SpA8oUrgRz5rBMVY8</td>\n",
       "      <td>3.8</td>\n",
       "      <td>$200-400</td>\n",
       "      <td>2512.0</td>\n",
       "      <td>夜市, 煎, 可頌, 螺旋麵, 玉米濃湯, 紅茶, 汽水, 雞腿, 碼點, 大學</td>\n",
       "      <td>SL</td>\n",
       "    </tr>\n",
       "    <tr>\n",
       "      <th>1962</th>\n",
       "      <td>士林夜市</td>\n",
       "      <td>海鮮粥</td>\n",
       "      <td>台北市</td>\n",
       "      <td>士林區福德路20號</td>\n",
       "      <td>https://maps.app.goo.gl/UoUst8mary4PKGuV9</td>\n",
       "      <td>4.0</td>\n",
       "      <td>$1-200</td>\n",
       "      <td>111.0</td>\n",
       "      <td>炒麵, 羊肉, 蛋, 價格, 油, 炒飯, 蚵, 蔥, 蝦仁, 虱目魚</td>\n",
       "      <td>SL</td>\n",
       "    </tr>\n",
       "    <tr>\n",
       "      <th>1963</th>\n",
       "      <td>士林夜市</td>\n",
       "      <td>Yiguo Ramen 라면 24H 異國無人拉麵店</td>\n",
       "      <td>台北市</td>\n",
       "      <td>士林區福德路12號14號</td>\n",
       "      <td>https://maps.app.goo.gl/PHfwCLEeW3YDqsLAA</td>\n",
       "      <td>4.9</td>\n",
       "      <td>$1-200</td>\n",
       "      <td>1556.0</td>\n",
       "      <td>選擇, 環境, 宵夜, 火鍋, 起司, 自助吧, 包, 酷, 動線, 餐盤</td>\n",
       "      <td>SL</td>\n",
       "    </tr>\n",
       "    <tr>\n",
       "      <th>1964</th>\n",
       "      <td>士林夜市</td>\n",
       "      <td>圓通素食館</td>\n",
       "      <td>台北市</td>\n",
       "      <td>士林區大東路158號</td>\n",
       "      <td>https://maps.app.goo.gl/c2L6hNtvSkCZwac37</td>\n",
       "      <td>4.3</td>\n",
       "      <td>$1-200</td>\n",
       "      <td>365.0</td>\n",
       "      <td>價格, 菜, 自助餐, 飯, 打折, 晚餐, 秤, 地板, 佛, 油</td>\n",
       "      <td>SL</td>\n",
       "    </tr>\n",
       "  </tbody>\n",
       "</table>\n",
       "<p>1965 rows × 10 columns</p>\n",
       "</div>"
      ],
      "text/plain": [
       "     nm_name                      st_name nm_city     st_address  \\\n",
       "0       寧夏夜市                        方家雞肉飯     台北市  大同區寧夏路060攤位號    \n",
       "1       寧夏夜市                       圓環邊蚵仔煎     台北市     大同區寧夏路46號    \n",
       "2       寧夏夜市     李掌伯（原寧夏夜市里長伯麻辣臭豆腐鴨血蚵仔麵線）     台北市   大同區寧夏路22之9號    \n",
       "3       寧夏夜市                         豬肝榮仔     台北市   大同區寧夏路010攤位    \n",
       "4       寧夏夜市                  寧夏夜市-爆漿脆皮魷魚     台北市   大同區寧夏夜市第89攤    \n",
       "...      ...                          ...     ...            ...   \n",
       "1960    士林夜市  REEDS PIZZERIA & COFFEE 士林店     台北市  士林區文林路340-1號    \n",
       "1961    士林夜市                   大塊牛排 - 士林店     台北市    士林區文林路341號    \n",
       "1962    士林夜市                          海鮮粥     台北市     士林區福德路20號    \n",
       "1963    士林夜市   Yiguo Ramen 라면 24H 異國無人拉麵店     台北市  士林區福德路12號14號    \n",
       "1964    士林夜市                        圓通素食館     台北市    士林區大東路158號    \n",
       "\n",
       "                                                 st_url  st_score  st_price  \\\n",
       "0     https://www.google.com/maps/place/%E6%96%B9%E5...       4.0    $1-200   \n",
       "1     https://www.google.com/maps/place/%E5%9C%93%E7...       4.0    $1-200   \n",
       "2     https://www.google.com/maps/place/%E6%9D%8E%E6...       3.7    $1-200   \n",
       "3     https://www.google.com/maps/place/%E8%B1%AC%E8...       4.2    $1-200   \n",
       "4     https://www.google.com/maps/place/%E5%AF%A7%E5...       4.1    $1-200   \n",
       "...                                                 ...       ...       ...   \n",
       "1960          https://maps.app.goo.gl/kmLVKDLjX4KpCVeP7       4.3  $200-400   \n",
       "1961          https://maps.app.goo.gl/SpA8oUrgRz5rBMVY8       3.8  $200-400   \n",
       "1962          https://maps.app.goo.gl/UoUst8mary4PKGuV9       4.0    $1-200   \n",
       "1963          https://maps.app.goo.gl/PHfwCLEeW3YDqsLAA       4.9    $1-200   \n",
       "1964          https://maps.app.goo.gl/c2L6hNtvSkCZwac37       4.3    $1-200   \n",
       "\n",
       "      st_total_com                                             st_tag nm_id  \n",
       "0           1549.0           滷肉飯, 炒青菜, 蔥, 排骨, 雞油, 醬, 必比登, 矩陣, 堂食, 玉子燒    NX  \n",
       "1           3722.0  米糕, 米其林, 元慶蠔, 太白粉, 矩陣, 佇列, 輸送帶, 蘿蔔排骨湯, 蛤蜊湯, 1965年    NX  \n",
       "2           3057.0     麻辣鴨血, 抄手, 腸旺, 大腸麵線, 炸豆腐, 破布子, 王子麵, 金莎, 炸豆腐, 辣湯    NX  \n",
       "3           1076.0          豬肝湯, 肉粽, 芋頭糕, 肉羹, 必比登, 排隊, 冬菜, 肚湯, 內臟, 形狀    NX  \n",
       "4            606.0            小黃瓜, 椒鹽, 炸魷魚, 排隊, 豆薯, 芥末, 粉, 水梨, 荸薺, 尤卡    NX  \n",
       "...            ...                                                ...   ...  \n",
       "1960          20.0          麵包, 空間, 咖啡廳, 價位, 歐洲梨, 美式咖啡, 裝修, 酥脆, 烤, 環境    SL  \n",
       "1961        2512.0           夜市, 煎, 可頌, 螺旋麵, 玉米濃湯, 紅茶, 汽水, 雞腿, 碼點, 大學    SL  \n",
       "1962         111.0                炒麵, 羊肉, 蛋, 價格, 油, 炒飯, 蚵, 蔥, 蝦仁, 虱目魚    SL  \n",
       "1963        1556.0              選擇, 環境, 宵夜, 火鍋, 起司, 自助吧, 包, 酷, 動線, 餐盤    SL  \n",
       "1964         365.0                 價格, 菜, 自助餐, 飯, 打折, 晚餐, 秤, 地板, 佛, 油    SL  \n",
       "\n",
       "[1965 rows x 10 columns]"
      ]
     },
     "execution_count": 6,
     "metadata": {},
     "output_type": "execute_result"
    }
   ],
   "source": [
    "df['st_name'] = df['st_name'].apply(clean_store_name)\n",
    "df"
   ]
  },
  {
   "cell_type": "code",
   "execution_count": null,
   "id": "c2052b67",
   "metadata": {},
   "outputs": [],
   "source": [
    "import re\n",
    "def split_address(raw_address):\n",
    "    # address = re.sub(r\"^\\d{3,6}\", '', raw_address) # 取代開頭郵遞區號3-6個數字成空字串\n",
    "    # address = str(raw_address)\n",
    "    # 縣市清理\n",
    "    # match = re.match(r\"^(.{2}[縣市])(.+)\", address)  \n",
    "    # # (取代開頭2-4任意字元連接縣市，1-3任意字元連接鄉鎮市區為第一群組) (剩下任意字元為第二組)\n",
    "    # if match:\n",
    "    #     area = match.group(1)\n",
    "    #     detail = match.group(2)\n",
    "    # else:\n",
    "    #     area = ''\n",
    "    #     detail = address\n",
    "\n",
    "    # return pd.Series({\n",
    "    #     \"nm_city\": area,\n",
    "    #     \"st_address\": detail\n",
    "    #     }\n",
    "    # )\n",
    "    \n",
    "    match = re.match(r\"^(.+?[鄉鎮市區])?\", str(raw_address))\n",
    "    if match:\n",
    "        area = match.group(1)\n",
    "    else:\n",
    "        area = ''\n",
    "\n",
    "    return  area"
   ]
  },
  {
   "cell_type": "code",
   "execution_count": null,
   "id": "9ab6214c",
   "metadata": {},
   "outputs": [],
   "source": [
    "df[['st_area', 'st_address']] = df['st_address'].apply(split_address)"
   ]
  },
  {
   "cell_type": "code",
   "execution_count": null,
   "id": "2d7347a4",
   "metadata": {},
   "outputs": [],
   "source": [
    "df"
   ]
  },
  {
   "cell_type": "code",
   "execution_count": null,
   "id": "8b585594",
   "metadata": {},
   "outputs": [],
   "source": [
    "def get_road(raw_address):\n",
    "    match = re.search(r\"([\\u4e00-\\u9fff]{2}[街路])\", str(raw_address))\n",
    "    road = match.group(1) if match else ''\n",
    "    return pd.Series({\n",
    "        'st_road' : road,\n",
    "    })"
   ]
  },
  {
   "cell_type": "code",
   "execution_count": null,
   "id": "5f2e4cda",
   "metadata": {},
   "outputs": [],
   "source": [
    "df['st_address'].apply(get_road)"
   ]
  },
  {
   "cell_type": "code",
   "execution_count": null,
   "id": "2e4a2c26",
   "metadata": {},
   "outputs": [],
   "source": [
    "df[['st_road']] = df['st_address'].apply(get_road)\n",
    "df"
   ]
  },
  {
   "cell_type": "code",
   "execution_count": null,
   "id": "9f48b012",
   "metadata": {},
   "outputs": [],
   "source": [
    "df.drop(columns=['店家名稱', '店家地址'])"
   ]
  },
  {
   "cell_type": "code",
   "execution_count": null,
   "id": "347c1240",
   "metadata": {},
   "outputs": [],
   "source": [
    "df['店家評分'].fillna('').astype(str).str.extract(r\"(\\d+.\\d+)\").astype(float)\n",
    "df"
   ]
  },
  {
   "cell_type": "code",
   "execution_count": null,
   "id": "1d6306b7",
   "metadata": {},
   "outputs": [],
   "source": [
    "df['st_score'] = df['店家評分']\n",
    "df"
   ]
  },
  {
   "cell_type": "code",
   "execution_count": null,
   "id": "d734d5ac",
   "metadata": {},
   "outputs": [],
   "source": [
    "df = df.drop(columns='nm_city_tmp')\n",
    "df"
   ]
  },
  {
   "cell_type": "code",
   "execution_count": null,
   "id": "b3a92d15",
   "metadata": {},
   "outputs": [],
   "source": [
    "df = df.drop(columns=['店家名稱', '店家地址'])\n",
    "df"
   ]
  },
  {
   "cell_type": "code",
   "execution_count": null,
   "id": "77b3a58e",
   "metadata": {},
   "outputs": [],
   "source": [
    "df['st_url'] = df['店家網址']\n",
    "df['st_price'] = df['店家價格']\n",
    "df['st_total_com'] = df['店家評論']\n",
    "df['st_tag'] = df['店家標籤']"
   ]
  },
  {
   "cell_type": "code",
   "execution_count": null,
   "id": "1b71cb5e",
   "metadata": {},
   "outputs": [],
   "source": [
    "df.drop(columns=['店家網址', '店家價格', '店家評論', '店家標籤'])"
   ]
  },
  {
   "cell_type": "code",
   "execution_count": null,
   "id": "e93de372",
   "metadata": {},
   "outputs": [],
   "source": [
    "df = df.drop(columns=['店家網址', '店家價格', '店家評論', '店家標籤'])\n",
    "df"
   ]
  },
  {
   "cell_type": "code",
   "execution_count": null,
   "id": "cbd58756",
   "metadata": {},
   "outputs": [],
   "source": [
    "df = df.drop(columns=['nm_city'])\n",
    "df"
   ]
  },
  {
   "cell_type": "code",
   "execution_count": null,
   "id": "97994b17",
   "metadata": {},
   "outputs": [],
   "source": [
    "def get_com_num(text):\n",
    "    comment_match = re.search(r\"([\\d,]+)\\s*則評論\", text)\n",
    "    if comment_match:\n",
    "        return int(comment_match.group(1).replace(',',''))\n",
    "    else:\n",
    "        return ''"
   ]
  },
  {
   "cell_type": "code",
   "execution_count": null,
   "id": "7dd810e3",
   "metadata": {},
   "outputs": [],
   "source": [
    "df['st_total_com'] = df['st_total_com'].apply(get_com_num)\n",
    "df"
   ]
  },
  {
   "cell_type": "code",
   "execution_count": null,
   "id": "cfad75d7",
   "metadata": {},
   "outputs": [],
   "source": [
    "df['nm_city'] = '台中市'\n",
    "df"
   ]
  },
  {
   "cell_type": "code",
   "execution_count": null,
   "id": "c5057da6",
   "metadata": {},
   "outputs": [],
   "source": [
    "df['nm_name'] = '逢甲夜市'\n",
    "df"
   ]
  },
  {
   "cell_type": "code",
   "execution_count": null,
   "id": "c4ea779d",
   "metadata": {},
   "outputs": [],
   "source": [
    "import ast\n",
    "\n",
    "def normalize_keywords(val):\n",
    "    if isinstance(val, str):\n",
    "        val = val.strip()\n",
    "        if val.startswith(\"[\") and val.endswith(\"]\"):\n",
    "            try:\n",
    "                # 把字串 list 解析成 Python list\n",
    "                parsed = ast.literal_eval(val)\n",
    "                if isinstance(parsed, list):\n",
    "                    return \",\".join(str(item) for item in parsed)\n",
    "            except:\n",
    "                pass\n",
    "        return val  # 已經是逗號分隔格式的話直接回傳\n",
    "    return \"\""
   ]
  },
  {
   "cell_type": "code",
   "execution_count": null,
   "id": "055c4e35",
   "metadata": {},
   "outputs": [],
   "source": [
    "df['st_tag'] = df['st_tag'].apply(normalize_keywords)\n",
    "df"
   ]
  },
  {
   "cell_type": "code",
   "execution_count": null,
   "id": "43e7a9bf",
   "metadata": {},
   "outputs": [],
   "source": [
    "def clean_price(text):\n",
    "    if text is '$':\n",
    "        return ''\n",
    "    else:\n",
    "        return text"
   ]
  },
  {
   "cell_type": "code",
   "execution_count": null,
   "id": "a2d67ed6",
   "metadata": {},
   "outputs": [],
   "source": [
    "df['st_price'] = df['st_price'].apply(clean_price)\n",
    "df"
   ]
  },
  {
   "cell_type": "code",
   "execution_count": null,
   "id": "55b08d56",
   "metadata": {},
   "outputs": [],
   "source": [
    "new_order = ['nm_name', 'st_name_clean','st_name', 'nm_city' , 'st_area', 'st_road', 'st_address','st_url', 'st_score', 'st_price', 'st_total_com', 'st_tag', 'longitude', 'latitude']\n",
    "df = df[new_order]"
   ]
  },
  {
   "cell_type": "code",
   "execution_count": null,
   "id": "43ee1d82",
   "metadata": {},
   "outputs": [],
   "source": [
    "df"
   ]
  },
  {
   "cell_type": "code",
   "execution_count": null,
   "id": "1b5080ed",
   "metadata": {},
   "outputs": [],
   "source": [
    "df['st_total_com'] = df['st_total_com'].fillna(0).replace([float('inf'), float('-inf')], 0).astype(int)"
   ]
  },
  {
   "cell_type": "code",
   "execution_count": null,
   "id": "90d1b55a",
   "metadata": {},
   "outputs": [],
   "source": [
    "df"
   ]
  },
  {
   "cell_type": "code",
   "execution_count": null,
   "id": "01dc9e7f",
   "metadata": {},
   "outputs": [],
   "source": [
    "df[(df['st_name_clean'] == '') | (df['st_name_clean'].isna())]"
   ]
  },
  {
   "cell_type": "code",
   "execution_count": null,
   "id": "d6f10308",
   "metadata": {},
   "outputs": [],
   "source": [
    "mask1 = (df['st_name'] == '（已遷移至大南路293號）紅茶巴士 Black Tea Bus - 士林夜市站/飲料店/珍珠奶茶')\n",
    "mask1"
   ]
  },
  {
   "cell_type": "code",
   "execution_count": null,
   "id": "244de02f",
   "metadata": {},
   "outputs": [],
   "source": [
    "df.loc[mask1, 'st_name_clean'] = '紅茶巴士 Black Tea Bus'"
   ]
  },
  {
   "cell_type": "code",
   "execution_count": null,
   "id": "cfa66725",
   "metadata": {},
   "outputs": [],
   "source": [
    "import numpy as np\n",
    "df['st_name_clean'] = np.where(df['st_name_clean'] is '', df['st_name'], df['st_name_clean'])"
   ]
  },
  {
   "cell_type": "code",
   "execution_count": null,
   "id": "beb4588d",
   "metadata": {},
   "outputs": [],
   "source": [
    "df"
   ]
  },
  {
   "cell_type": "code",
   "execution_count": null,
   "id": "83bdc817",
   "metadata": {},
   "outputs": [],
   "source": [
    "df['st_name_clean'] = df.apply(lambda row : row['st_name'] if pd.isna(row['st_name_clean']) or row['st_name_clean'] == '' else row['st_name_clean'], axis=1)"
   ]
  },
  {
   "cell_type": "code",
   "execution_count": null,
   "id": "6ca6803f",
   "metadata": {},
   "outputs": [],
   "source": [
    "df[(df['st_area'] == '') | df['st_area'].isna()]"
   ]
  },
  {
   "cell_type": "code",
   "execution_count": null,
   "id": "b85093c7",
   "metadata": {},
   "outputs": [],
   "source": [
    "def fill_area(raw_address):    \n",
    "    match = re.search(r\"(.+?[鄉鎮市區])\", str(raw_address))\n",
    "    if match:\n",
    "        return  match.group(1)\n",
    "    else:\n",
    "        return ''"
   ]
  },
  {
   "cell_type": "code",
   "execution_count": null,
   "id": "2d81bf34",
   "metadata": {},
   "outputs": [],
   "source": [
    "mask = (df['st_area'] == '') | (df['st_area'].isna())\n",
    "df.loc[mask, 'st_area'] = df.loc[mask, 'st_address'].apply(fill_area)"
   ]
  },
  {
   "cell_type": "code",
   "execution_count": null,
   "id": "53d807b3",
   "metadata": {},
   "outputs": [],
   "source": [
    "df[(df['st_area'] == '') | (df['st_area'].isna())]"
   ]
  },
  {
   "cell_type": "code",
   "execution_count": null,
   "id": "8a62ccb4",
   "metadata": {},
   "outputs": [],
   "source": [
    "def fill_road(text):\n",
    "    match = re.search(r\"([\\u4e00-\\u9fff]{2,3}[街路])\", str(text))\n",
    "    if match:\n",
    "        return match.group(1)\n",
    "    else:\n",
    "        return ''"
   ]
  },
  {
   "cell_type": "code",
   "execution_count": null,
   "id": "4f752f42",
   "metadata": {},
   "outputs": [],
   "source": [
    "mask = (df['st_road'] == '') | (df['st_road'].isna())\n",
    "df.loc[mask, 'st_road'] = df.loc[mask, 'st_address'].apply(fill_road)"
   ]
  },
  {
   "cell_type": "code",
   "execution_count": null,
   "id": "9f0f32af",
   "metadata": {},
   "outputs": [],
   "source": [
    "df[(df['st_road'] == '') | (df['st_road'].isna())]"
   ]
  },
  {
   "cell_type": "code",
   "execution_count": null,
   "id": "0bfc1644",
   "metadata": {},
   "outputs": [],
   "source": [
    "mask = (df['st_address'] == r'970花蓮縣41 巷257號民治里重慶路')\n",
    "df.loc[mask, 'nm_city'] = '花蓮縣'\n",
    "df.loc[mask, 'st_area'] = '花蓮市'\n",
    "df.loc[mask, 'st_road'] = '重慶路'\n",
    "df.loc[mask, 'st_address'] = '41巷257號'"
   ]
  },
  {
   "cell_type": "code",
   "execution_count": null,
   "id": "58872a39",
   "metadata": {},
   "outputs": [],
   "source": [
    "df[(df['st_road'] == r'%空值%')]\n",
    "# df.loc[mask, 'st_road'] = ''\n",
    "# df[(df['st_road'] == '')]"
   ]
  },
  {
   "cell_type": "code",
   "execution_count": null,
   "id": "76a5e977",
   "metadata": {},
   "outputs": [],
   "source": [
    "df = df.drop(columns=['st_address_origin'])\n"
   ]
  },
  {
   "cell_type": "code",
   "execution_count": null,
   "id": "aed053a2",
   "metadata": {},
   "outputs": [],
   "source": [
    "df['st_address'] = df['st_address_origin']"
   ]
  },
  {
   "cell_type": "code",
   "execution_count": null,
   "id": "928c1878",
   "metadata": {},
   "outputs": [],
   "source": [
    "df"
   ]
  },
  {
   "cell_type": "code",
   "execution_count": 7,
   "id": "0cbf16f4",
   "metadata": {},
   "outputs": [],
   "source": [
    "df.to_csv(\"/workspaces/poetry-demo-test2/clean/restaurants_Cleaned_merge.csv\", header=True, index=None)"
   ]
  },
  {
   "cell_type": "code",
   "execution_count": null,
   "id": "fc531467",
   "metadata": {},
   "outputs": [],
   "source": [
    "df2.to_csv(\"/workspaces/poetry-demo-test2/toDB/restaurant_no.csv\", header=True, index=None)"
   ]
  },
  {
   "cell_type": "code",
   "execution_count": null,
   "id": "095ff019",
   "metadata": {},
   "outputs": [],
   "source": []
  }
 ],
 "metadata": {
  "kernelspec": {
   "display_name": "poetry-demo-test2-wqEWZdk4-py3.12",
   "language": "python",
   "name": "python3"
  },
  "language_info": {
   "codemirror_mode": {
    "name": "ipython",
    "version": 3
   },
   "file_extension": ".py",
   "mimetype": "text/x-python",
   "name": "python",
   "nbconvert_exporter": "python",
   "pygments_lexer": "ipython3",
   "version": "3.12.10"
  }
 },
 "nbformat": 4,
 "nbformat_minor": 5
}
