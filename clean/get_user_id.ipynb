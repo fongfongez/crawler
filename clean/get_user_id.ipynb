{
 "cells": [
  {
   "cell_type": "code",
   "execution_count": null,
   "id": "d3fbb035",
   "metadata": {},
   "outputs": [],
   "source": [
    "import pandas as pd"
   ]
  },
  {
   "cell_type": "code",
   "execution_count": null,
   "id": "1194e762",
   "metadata": {},
   "outputs": [],
   "source": [
    "df = pd.read_csv(\"/workspaces/poetry-demo-test2/toDB/comments_Cleaned.csv\")\n",
    "df.head(1)"
   ]
  },
  {
   "cell_type": "code",
   "execution_count": null,
   "id": "3727d4c7",
   "metadata": {},
   "outputs": [],
   "source": [
    "df_user = df.drop_duplicates(subset=['user_id'], keep='last')\n",
    "df_user"
   ]
  },
  {
   "cell_type": "code",
   "execution_count": null,
   "id": "ff8e7b72",
   "metadata": {},
   "outputs": [],
   "source": [
    "df_user = df_user.drop(columns=['nm_name', 'st_name', 'nm_city', 'st_address', 'rating_star', 'time_num', 'time_unit', 'months_ago','content_clean'])\n",
    "df_user"
   ]
  },
  {
   "cell_type": "code",
   "execution_count": null,
   "id": "edb15d6a",
   "metadata": {},
   "outputs": [],
   "source": [
    "df_user['review_count'] = df_user['review_count'].fillna(0).astype(int)\n",
    "df_user['photo_count'] = df_user['photo_count'].fillna(0).astype(int)"
   ]
  },
  {
   "cell_type": "code",
   "execution_count": null,
   "id": "ee6ef109",
   "metadata": {},
   "outputs": [],
   "source": [
    "df_user"
   ]
  },
  {
   "cell_type": "code",
   "execution_count": null,
   "id": "d6c8f4b3",
   "metadata": {},
   "outputs": [],
   "source": [
    "df_user.to_csv(\"/workspaces/poetry-demo-test2/toDB/user_list.csv\", header=True, index=None)"
   ]
  },
  {
   "cell_type": "code",
   "execution_count": null,
   "id": "fd83b775",
   "metadata": {},
   "outputs": [],
   "source": []
  }
 ],
 "metadata": {
  "kernelspec": {
   "display_name": "poetry-demo-test2-wqEWZdk4-py3.12",
   "language": "python",
   "name": "python3"
  },
  "language_info": {
   "codemirror_mode": {
    "name": "ipython",
    "version": 3
   },
   "file_extension": ".py",
   "mimetype": "text/x-python",
   "name": "python",
   "nbconvert_exporter": "python",
   "pygments_lexer": "ipython3",
   "version": "3.12.10"
  }
 },
 "nbformat": 4,
 "nbformat_minor": 5
}
