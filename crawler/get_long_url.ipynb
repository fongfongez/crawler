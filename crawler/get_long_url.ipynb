{
 "cells": [
  {
   "cell_type": "code",
   "execution_count": null,
   "id": "dfc2188e",
   "metadata": {},
   "outputs": [],
   "source": [
    "import requests\n",
    "import pandas as pd"
   ]
  },
  {
   "cell_type": "code",
   "execution_count": null,
   "id": "70833d0e",
   "metadata": {},
   "outputs": [],
   "source": [
    "def get_long_url(short_url):\n",
    "    response = requests.head(short_url, allow_redirects=True)\n",
    "    return response.url"
   ]
  },
  {
   "cell_type": "code",
   "execution_count": null,
   "id": "ed0484da",
   "metadata": {},
   "outputs": [],
   "source": [
    "df = pd.read_csv(\"/workspaces/poetry-demo-test2/clean/restaurant_error.csv\")"
   ]
  },
  {
   "cell_type": "code",
   "execution_count": null,
   "id": "64c89f90",
   "metadata": {},
   "outputs": [],
   "source": [
    "df['st_url'].apply(get_long_url)"
   ]
  },
  {
   "cell_type": "code",
   "execution_count": null,
   "id": "2b0e8880",
   "metadata": {},
   "outputs": [],
   "source": [
    "df"
   ]
  },
  {
   "cell_type": "code",
   "execution_count": null,
   "id": "00955cbe",
   "metadata": {},
   "outputs": [],
   "source": [
    "df['st_url_new'] = df['st_url'].apply(get_long_url)"
   ]
  },
  {
   "cell_type": "code",
   "execution_count": null,
   "id": "9b989cd7",
   "metadata": {},
   "outputs": [],
   "source": [
    "df"
   ]
  },
  {
   "cell_type": "code",
   "execution_count": null,
   "id": "10f69628",
   "metadata": {},
   "outputs": [],
   "source": [
    "df = df.drop(columns=['st_url'])\n",
    "df['st_url'] = df['st_url_new']\n",
    "df"
   ]
  },
  {
   "cell_type": "code",
   "execution_count": null,
   "id": "6c004d19",
   "metadata": {},
   "outputs": [],
   "source": [
    "df.to_csv(\"/workspaces/poetry-demo-test2/toDB/restaurant_error_edit.csv\", header=True, index=None)"
   ]
  },
  {
   "cell_type": "code",
   "execution_count": null,
   "id": "44acfa41",
   "metadata": {},
   "outputs": [],
   "source": []
  }
 ],
 "metadata": {
  "kernelspec": {
   "display_name": "poetry-demo-test2-wqEWZdk4-py3.12",
   "language": "python",
   "name": "python3"
  },
  "language_info": {
   "codemirror_mode": {
    "name": "ipython",
    "version": 3
   },
   "file_extension": ".py",
   "mimetype": "text/x-python",
   "name": "python",
   "nbconvert_exporter": "python",
   "pygments_lexer": "ipython3",
   "version": "3.12.10"
  }
 },
 "nbformat": 4,
 "nbformat_minor": 5
}
