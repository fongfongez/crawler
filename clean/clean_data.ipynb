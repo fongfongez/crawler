{
 "cells": [
  {
   "cell_type": "code",
   "execution_count": 8,
   "id": "55f63f11",
   "metadata": {},
   "outputs": [],
   "source": [
    "import pandas as pd"
   ]
  },
  {
   "cell_type": "code",
   "execution_count": 9,
   "id": "e18402f5",
   "metadata": {},
   "outputs": [],
   "source": [
    "df = pd.read_csv(\"/workspaces/poetry-demo-test2/clean/no_analysis_result.csv\")"
   ]
  },
  {
   "cell_type": "code",
   "execution_count": 10,
   "id": "73fa2258",
   "metadata": {},
   "outputs": [],
   "source": [
    "df['fake_comment'] = df['fake_comment'].map({'T' : True, 'F' : False})"
   ]
  },
  {
   "cell_type": "code",
   "execution_count": 11,
   "id": "3623a13b",
   "metadata": {},
   "outputs": [],
   "source": [
    "df['fake_comment'] = df['fake_comment'].astype(bool)"
   ]
  },
  {
   "cell_type": "code",
   "execution_count": 12,
   "id": "2844d28d",
   "metadata": {},
   "outputs": [],
   "source": [
    "df['fake_level'] = df['fake_level'].fillna(0).astype(int)"
   ]
  },
  {
   "cell_type": "code",
   "execution_count": 13,
   "id": "c945f95d",
   "metadata": {},
   "outputs": [
    {
     "data": {
      "text/plain": [
       "dtype('bool')"
      ]
     },
     "execution_count": 13,
     "metadata": {},
     "output_type": "execute_result"
    }
   ],
   "source": [
    "df['fake_comment'].dtype"
   ]
  },
  {
   "cell_type": "code",
   "execution_count": null,
   "id": "c5720b44",
   "metadata": {},
   "outputs": [],
   "source": [
    "df.to_csv(\"/workspaces/poetry-demo-test2/toDB/comment_clean.csv\", header=True, index=None)"
   ]
  },
  {
   "cell_type": "code",
   "execution_count": null,
   "id": "28530c10",
   "metadata": {},
   "outputs": [],
   "source": [
    "df = df.drop(columns=['fake_comment', 'fake_level', 'fake_reason'])\n",
    "df"
   ]
  },
  {
   "cell_type": "code",
   "execution_count": 14,
   "id": "382f77ce",
   "metadata": {},
   "outputs": [],
   "source": [
    "df.to_csv(\"/workspaces/poetry-demo-test2/clean/no_analysis_result.csv\", header=True, index=None)"
   ]
  },
  {
   "cell_type": "code",
   "execution_count": null,
   "id": "1c507e8e",
   "metadata": {},
   "outputs": [],
   "source": []
  }
 ],
 "metadata": {
  "kernelspec": {
   "display_name": "poetry-demo-test2-wqEWZdk4-py3.12",
   "language": "python",
   "name": "python3"
  },
  "language_info": {
   "codemirror_mode": {
    "name": "ipython",
    "version": 3
   },
   "file_extension": ".py",
   "mimetype": "text/x-python",
   "name": "python",
   "nbconvert_exporter": "python",
   "pygments_lexer": "ipython3",
   "version": "3.12.10"
  }
 },
 "nbformat": 4,
 "nbformat_minor": 5
}
